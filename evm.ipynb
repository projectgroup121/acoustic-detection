{
  "nbformat": 4,
  "nbformat_minor": 0,
  "metadata": {
    "colab": {
      "provenance": [],
      "mount_file_id": "1Gnxh3KEE1iknwxz6bFpffx00zQq2XFdS",
      "authorship_tag": "ABX9TyPfVvCBaW+YWTrSpQCYQK3N",
      "include_colab_link": true
    },
    "kernelspec": {
      "name": "python3",
      "display_name": "Python 3"
    },
    "language_info": {
      "name": "python"
    }
  },
  "cells": [
    {
      "cell_type": "markdown",
      "metadata": {
        "id": "view-in-github",
        "colab_type": "text"
      },
      "source": [
        "<a href=\"https://colab.research.google.com/github/projectgroup121/acoustic-detection/blob/main/evm.ipynb\" target=\"_parent\"><img src=\"https://colab.research.google.com/assets/colab-badge.svg\" alt=\"Open In Colab\"/></a>"
      ]
    },
    {
      "cell_type": "code",
      "execution_count": 3,
      "metadata": {
        "id": "fUyQ-gLFCyPz"
      },
      "outputs": [],
      "source": [
        "import os\n",
        "import cv2\n",
        "import matplotlib.pyplot as plt\n",
        "import numpy as np\n",
        "from skimage.transform import rescale,resize\n",
        "from pandas import DataFrame\n",
        "from PIL import Image\n",
        "import keras\n",
        "import tensorflow\n",
        "from matplotlib import pyplot as plt\n",
        "from tensorflow.keras.layers import Input,Conv2D,MaxPooling2D,Conv2DTranspose\n",
        "from tensorflow.keras.optimizers import Adam\n",
        "from tensorflow.keras.layers import BatchNormalization\n",
        "import librosa as lr"
      ]
    },
    {
      "cell_type": "code",
      "source": [
        "X = []\n",
        "Y = []\n",
        "type(Y)\n",
        "# path = '/content/drive/MyDrive/DATASETS'\n",
        "# spath = path\n",
        "# print(y)\n",
        "# for child in os.listdir(path):\n",
        "#   print(child)\n",
        "#   sub_path = os.path.join(spath,child)\n",
        "#   bsub_path = os.path.join(path,child)\n",
        "#   if os.path.isdir(sub_path):\n",
        "#     for data in os.listdir(sub_path):\n",
        "#         file_path = sub_path+'/{}'.format(data)\n",
        "#         y, sr =  lr.load(file_path,duration=3)\n",
        "#         S=lr.feature.melspectrogram(y=y, sr=sr,n_mels=64,hop_length=1024)\n",
        "#         mfccs = lr.feature.mfcc(y=y, sr=sr, n_mfcc=40,hop_length=1024)\n",
        "#         combined=np.concatenate((S,mfccs),axis =0)\n",
        "#         print(child,data,combined.shape)\n",
        "#         X.append(combined)\n",
        "#         Y.append(child)\n",
        "      "
      ],
      "metadata": {
        "id": "iLCwDe0WC1Z3",
        "colab": {
          "base_uri": "https://localhost:8080/"
        },
        "outputId": "464fa14a-d03e-4a2a-bf7c-d2250de4244e"
      },
      "execution_count": 1,
      "outputs": [
        {
          "output_type": "execute_result",
          "data": {
            "text/plain": [
              "list"
            ]
          },
          "metadata": {},
          "execution_count": 1
        }
      ]
    },
    {
      "cell_type": "code",
      "source": [
        "from sklearn.model_selection import train_test_split"
      ],
      "metadata": {
        "id": "NkuE6wflBCHP"
      },
      "execution_count": null,
      "outputs": []
    }
  ]
}